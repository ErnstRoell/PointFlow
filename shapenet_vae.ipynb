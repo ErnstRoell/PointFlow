{
 "cells": [
  {
   "cell_type": "markdown",
   "metadata": {},
   "source": [
    "## Prepare imports"
   ]
  },
  {
   "cell_type": "code",
   "execution_count": 1,
   "metadata": {},
   "outputs": [
    {
     "ename": "ModuleNotFoundError",
     "evalue": "No module named 'load_models'",
     "output_type": "error",
     "traceback": [
      "\u001b[1;31m---------------------------------------------------------------------------\u001b[0m",
      "\u001b[1;31mModuleNotFoundError\u001b[0m                       Traceback (most recent call last)",
      "Cell \u001b[1;32mIn[1], line 5\u001b[0m\n\u001b[0;32m      3\u001b[0m \u001b[38;5;28;01mfrom\u001b[39;00m \u001b[38;5;21;01margs\u001b[39;00m \u001b[38;5;28;01mimport\u001b[39;00m get_parser\n\u001b[0;32m      4\u001b[0m \u001b[38;5;28;01mfrom\u001b[39;00m \u001b[38;5;21;01mmodels\u001b[39;00m\u001b[38;5;21;01m.\u001b[39;00m\u001b[38;5;21;01mvae\u001b[39;00m \u001b[38;5;28;01mimport\u001b[39;00m BaseModel \u001b[38;5;28;01mas\u001b[39;00m VAE\n\u001b[1;32m----> 5\u001b[0m \u001b[38;5;28;01mfrom\u001b[39;00m \u001b[38;5;21;01mmodel_wrapper\u001b[39;00m \u001b[38;5;28;01mimport\u001b[39;00m TopologicalModelVAEPlainScaled\n\u001b[0;32m      6\u001b[0m \u001b[38;5;28;01mimport\u001b[39;00m \u001b[38;5;21;01mtorch\u001b[39;00m\n\u001b[0;32m      8\u001b[0m CATES \u001b[38;5;241m=\u001b[39m [\u001b[38;5;124m\"\u001b[39m\u001b[38;5;124mairplane\u001b[39m\u001b[38;5;124m\"\u001b[39m]\n",
      "File \u001b[1;32mc:\\Users\\ernst\\Documents\\02-Work\\06-Repos\\PointFlow\\model_wrapper.py:7\u001b[0m\n\u001b[0;32m      1\u001b[0m \u001b[38;5;124;03m\"\"\"wr\u001b[39;00m\n\u001b[0;32m      2\u001b[0m \u001b[38;5;124;03mA wrapper to give our model the same signature as the \u001b[39;00m\n\u001b[0;32m      3\u001b[0m \u001b[38;5;124;03mone in pointflow and make it accept the same type of data.\u001b[39;00m\n\u001b[0;32m      4\u001b[0m \n\u001b[0;32m      5\u001b[0m \u001b[38;5;124;03m\"\"\"\u001b[39;00m\n\u001b[1;32m----> 7\u001b[0m \u001b[38;5;28;01mfrom\u001b[39;00m \u001b[38;5;21;01mload_models\u001b[39;00m \u001b[38;5;28;01mimport\u001b[39;00m load_encoder, load_vae\n\u001b[0;32m      8\u001b[0m \u001b[38;5;28;01mfrom\u001b[39;00m \u001b[38;5;21;01mtorch_geometric\u001b[39;00m\u001b[38;5;21;01m.\u001b[39;00m\u001b[38;5;21;01mdata\u001b[39;00m \u001b[38;5;28;01mimport\u001b[39;00m Data, Batch\n\u001b[0;32m      9\u001b[0m \u001b[38;5;28;01mimport\u001b[39;00m \u001b[38;5;21;01mtorch\u001b[39;00m\n",
      "\u001b[1;31mModuleNotFoundError\u001b[0m: No module named 'load_models'"
     ]
    }
   ],
   "source": [
    "import matplotlib.pyplot as plt\n",
    "from datasets import get_test_loader\n",
    "from args import get_parser\n",
    "from models.vae import BaseModel as VAE\n",
    "from model_wrapper import TopologicalModelVAEPlainScaled\n",
    "import torch\n",
    "\n",
    "CATES = [\"airplane\"]"
   ]
  },
  {
   "cell_type": "code",
   "execution_count": 19,
   "metadata": {},
   "outputs": [],
   "source": [
    "p = get_parser()\n",
    "args, unknown = p.parse_known_args()\n",
    "args.cates = CATES"
   ]
  },
  {
   "cell_type": "code",
   "execution_count": null,
   "metadata": {},
   "outputs": [],
   "source": [
    "# n_images = 4\n",
    "\n",
    "# fig, axes = plt.subplots(\n",
    "#     nrows=2, ncols=n_images, sharex=True, sharey=True, figsize=(8,4)\n",
    "# )\n",
    "# fig.subplots_adjust(wspace=0.05,hspace=0.05)\n",
    "\n",
    "# for orig_img, recon_img,ax in zip(ect,decoded,axes.T):\n",
    "    \n",
    "#     ax[0].imshow(recon_img.cpu().detach().squeeze().numpy(),cmap=\"bone\",vmin=-0.5,vmax=1.5)\n",
    "#     ax[0].axis(\"off\")\n",
    "#     ax[1].imshow(orig_img.cpu().detach().squeeze().numpy(),cmap=\"bone\",vmin=-0.5,vmax=1.5)\n",
    "#     ax[1].axis(\"off\")\n",
    "    \n",
    "\n",
    "# # plt.savefig(\"./figures/img/modelnet/reconstructed_ect_vae.svg\",transparent=True)"
   ]
  },
  {
   "cell_type": "code",
   "execution_count": null,
   "metadata": {},
   "outputs": [],
   "source": [
    "# n_images = 4\n",
    "\n",
    "# fig, axes = plt.subplots(\n",
    "#     nrows=2, ncols=n_images, sharex=True, sharey=True, figsize=(32,16)\n",
    "# )\n",
    "# fig.subplots_adjust(wspace=0.05,hspace=0.05)\n",
    "\n",
    "# for orig_img, recon_img,ax in zip(ect,decoded,axes.T):\n",
    "    \n",
    "#     ax[0].imshow(recon_img.cpu().detach().squeeze().numpy(),cmap=\"bone\",vmin=-0.5,vmax=1.5)\n",
    "#     ax[0].axis(\"off\")\n",
    "#     ax[1].imshow(orig_img.cpu().detach().squeeze().numpy(),cmap=\"bone\",vmin=-0.5,vmax=1.5)\n",
    "#     ax[1].axis(\"off\")"
   ]
  },
  {
   "cell_type": "code",
   "execution_count": 21,
   "metadata": {},
   "outputs": [
    {
     "name": "stderr",
     "output_type": "stream",
     "text": [
      "C:\\Users\\ernst\\AppData\\Local\\Packages\\PythonSoftwareFoundation.Python.3.10_qbz5n2kfra8p0\\LocalCache\\local-packages\\Python310\\site-packages\\lightning\\pytorch\\utilities\\migration\\utils.py:56: The loaded checkpoint was produced with Lightning v2.3.3, which is newer than your current Lightning version: v2.2.3\n"
     ]
    },
    {
     "name": "stdout",
     "output_type": "stream",
     "text": [
      "  | Name                | Type             | Params\n",
      "---------------------------------------------------------\n",
      "0 | layer               | EctLayer         | 0     \n",
      "1 | training_accuracy   | MeanSquaredError | 0     \n",
      "2 | validation_accuracy | MeanSquaredError | 0     \n",
      "3 | test_accuracy       | MeanSquaredError | 0     \n",
      "4 | loss_fn             | MSELoss          | 0     \n",
      "5 | model               | Sequential       | 39.9 M\n",
      "---------------------------------------------------------\n",
      "39.9 M    Trainable params\n",
      "0         Non-trainable params\n",
      "39.9 M    Total params\n",
      "159.433   Total estimated model params size (MB)\n"
     ]
    }
   ],
   "source": [
    "vae = VAE.load_from_checkpoint(\"./trained_models/vae_shapenet_{CATES[0]}\")\n",
    "model = TopologicalModelVAEPlainScaled(vae)\n",
    "# Independent ECT layer\n",
    "layer = vae.layer \n",
    "\n"
   ]
  },
  {
   "cell_type": "code",
   "execution_count": 22,
   "metadata": {},
   "outputs": [
    {
     "name": "stdout",
     "output_type": "stream",
     "text": [
      "=====GEN======\n",
      "Total number of data:2832\n",
      "Min number of points: (train)2048 (test)2048\n",
      "Total number of data:405\n",
      "Min number of points: (train)2048 (test)2048\n"
     ]
    }
   ],
   "source": [
    "print(\"=====GEN======\")\n",
    "loader = get_test_loader(args)\n",
    "all_ect = []\n",
    "all_recon_ect = []\n",
    "for data in loader:\n",
    "    idx_b, tr_pc, te_pc = data[\"idx\"], data[\"train_points\"], data[\"test_points\"]\n",
    "\n",
    "    te_pc = te_pc.cuda() if args.gpu is None else te_pc.cuda(args.gpu)\n",
    "    tr_pc = tr_pc.cuda() if args.gpu is None else tr_pc.cuda(args.gpu)\n",
    "    B, N = te_pc.size(0), te_pc.size(1)\n",
    "    ect, recon_ect = model.reconstruct(tr_pc, num_points=N)\n",
    "\n",
    "    all_ect.append(ect)\n",
    "    all_recon_ect.append(recon_ect)\n",
    "\n",
    "ref_ect = torch.cat(all_ect, dim=0)\n",
    "recon_ect = torch.cat(all_recon_ect, dim=0)\n",
    "\n"
   ]
  },
  {
   "cell_type": "markdown",
   "metadata": {},
   "source": [
    "# Reconstructions"
   ]
  },
  {
   "cell_type": "code",
   "execution_count": null,
   "metadata": {},
   "outputs": [],
   "source": [
    "n_images = 4\n",
    "\n",
    "fig, axes = plt.subplots(\n",
    "    nrows=2, ncols=n_images, sharex=True, sharey=True, figsize=(8,4)\n",
    ")\n",
    "fig.subplots_adjust(wspace=0.05,hspace=0.05)\n",
    "\n",
    "for orig_img, recon_img,ax in zip(ref_ect,recon_ect,axes.T):\n",
    "    \n",
    "    ax[0].imshow(recon_img.cpu().detach().squeeze().numpy(),cmap=\"bone\",vmin=-0.5,vmax=1.5)\n",
    "    ax[0].axis(\"off\")\n",
    "    ax[1].imshow(orig_img.cpu().detach().squeeze().numpy(),cmap=\"bone\",vmin=-0.5,vmax=1.5)\n",
    "    ax[1].axis(\"off\")"
   ]
  },
  {
   "cell_type": "markdown",
   "metadata": {},
   "source": [
    "# Samples \n"
   ]
  },
  {
   "cell_type": "code",
   "execution_count": null,
   "metadata": {},
   "outputs": [],
   "source": [
    "n_images = 4\n",
    "\n",
    "samples = vae.sample(n_images, \"cuda:0\")\n",
    "\n",
    "\n",
    "fig, axes = plt.subplots(\n",
    "    nrows=1, ncols=n_images, sharex=True, sharey=True, figsize=(8,4)\n",
    ")\n",
    "fig.subplots_adjust(wspace=0.05,hspace=0.05)\n",
    "\n",
    "for orig_img, recon_img,ax in zip(ref_ect,recon_ect,axes.T):\n",
    "    \n",
    "    ax[0].imshow(recon_img.cpu().detach().squeeze().numpy(),cmap=\"bone\",vmin=-0.5,vmax=1.5)\n",
    "    ax[0].axis(\"off\")"
   ]
  }
 ],
 "metadata": {
  "kernelspec": {
   "display_name": "Python 3",
   "language": "python",
   "name": "python3"
  },
  "language_info": {
   "codemirror_mode": {
    "name": "ipython",
    "version": 3
   },
   "file_extension": ".py",
   "mimetype": "text/x-python",
   "name": "python",
   "nbconvert_exporter": "python",
   "pygments_lexer": "ipython3",
   "version": "3.10.11"
  }
 },
 "nbformat": 4,
 "nbformat_minor": 2
}
