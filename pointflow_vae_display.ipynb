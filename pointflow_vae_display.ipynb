{
 "cells": [
  {
   "cell_type": "markdown",
   "metadata": {},
   "source": [
    "## Prepare imports"
   ]
  },
  {
   "cell_type": "code",
   "execution_count": 7,
   "metadata": {},
   "outputs": [],
   "source": [
    "from datasets import get_datasets, synsetid_to_cate\n",
    "from args import get_parser\n",
    "from pprint import pprint\n",
    "# from metrics.evaluation_metrics import EMD_CD\n",
    "# from metrics.evaluation_metrics import jsd_between_point_cloud_sets as JSD\n",
    "# from metrics.evaluation_metrics import compute_all_metrics\n",
    "from collections import defaultdict\n",
    "from models.networks import PointFlow\n",
    "import os\n",
    "import torch\n",
    "import numpy as np\n",
    "import torch.nn as nn\n",
    "import pyvista as pv\n",
    "\n",
    "\n",
    "\n",
    "################################################################################\n",
    "# Import model and additional stuff\n",
    "################################################################################\n",
    "\n",
    "from omegaconf import OmegaConf\n",
    "from model_wrapper import TopologicalModelVAE\n",
    "from load_models import load_encoder, load_vae\n",
    "\n",
    "\n",
    "################################################################################\n",
    "################################################################################\n",
    "\n",
    "\n",
    "def get_test_loader(args):\n",
    "    _, te_dataset = get_datasets(args)\n",
    "    if args.resume_dataset_mean is not None and args.resume_dataset_std is not None:\n",
    "        mean = np.load(args.resume_dataset_mean)\n",
    "        std = np.load(args.resume_dataset_std)\n",
    "        te_dataset.renormalize(mean, std)\n",
    "    loader = torch.utils.data.DataLoader(\n",
    "        dataset=te_dataset,\n",
    "        batch_size=args.batch_size,\n",
    "        shuffle=False,\n",
    "        num_workers=0,\n",
    "        pin_memory=True,\n",
    "        drop_last=False,\n",
    "    )\n",
    "    return loader\n",
    "\n"
   ]
  },
  {
   "cell_type": "code",
   "execution_count": 8,
   "metadata": {},
   "outputs": [],
   "source": [
    "p = get_parser()\n",
    "args, unknown = p.parse_known_args()\n",
    "\n"
   ]
  },
  {
   "cell_type": "code",
   "execution_count": 9,
   "metadata": {},
   "outputs": [],
   "source": [
    "args.dims = '512-512-512'\n",
    "args.latent_dims = '256-256'\n",
    "args.resume_checkpoint = 'pretrained_models/gen/airplane/checkpoint.pt'\n",
    "args.use_latent_flow = True"
   ]
  },
  {
   "cell_type": "code",
   "execution_count": 10,
   "metadata": {},
   "outputs": [
    {
     "data": {
      "text/plain": [
       "Namespace(input_dim=3, dims='512-512-512', latent_dims='256-256', num_blocks=1, latent_num_blocks=1, layer_type='concatsquash', time_length=0.5, train_T=True, nonlinearity='tanh', use_adjoint=True, solver='dopri5', atol=1e-05, rtol=1e-05, batch_norm=True, sync_bn=False, bn_lag=0, use_latent_flow=True, use_deterministic_encoder=False, zdim=128, optimizer='adam', batch_size=50, lr=0.001, beta1=0.9, beta2=0.999, momentum=0.9, weight_decay=0.0, epochs=100, seed=None, recon_weight=1.0, prior_weight=1.0, entropy_weight=1.0, scheduler='linear', exp_decay=1.0, exp_decay_freq=1, dataset_type='shapenet15k', cates=['airplane'], data_dir='data/ShapeNetCore.v2.PC15k', mn40_data_dir='data/ModelNet40.PC15k', mn10_data_dir='data/ModelNet10.PC15k', dataset_scale=1.0, random_rotate=False, normalize_per_shape=False, normalize_std_per_axis=False, tr_max_sample_points=2048, te_max_sample_points=2048, num_workers=4, log_name=None, viz_freq=10, val_freq=10, log_freq=10, save_freq=10, no_validation=False, save_val_results=False, eval_classification=False, no_eval_sampling=False, max_validate_shapes=None, resume_checkpoint='pretrained_models/gen/airplane/checkpoint.pt', resume_optimizer=False, resume_non_strict=False, resume_dataset_mean=None, resume_dataset_std=None, world_size=1, dist_url='tcp://127.0.0.1:9991', dist_backend='nccl', distributed=False, rank=0, gpu=None, evaluate_recon=False, num_sample_shapes=10, num_sample_points=2048)"
      ]
     },
     "execution_count": 10,
     "metadata": {},
     "output_type": "execute_result"
    }
   ],
   "source": [
    "args"
   ]
  },
  {
   "cell_type": "code",
   "execution_count": 11,
   "metadata": {},
   "outputs": [
    {
     "name": "stdout",
     "output_type": "stream",
     "text": [
      "Number of trainable parameters of Point CNF: 927513\n",
      "Number of trainable parameters of Latent CNF: 134145\n",
      "Resume Path:pretrained_models/gen/airplane/checkpoint.pt\n"
     ]
    },
    {
     "data": {
      "text/plain": [
       "PointFlow(\n",
       "  (encoder): DataParallel(\n",
       "    (module): Encoder(\n",
       "      (conv1): Conv1d(3, 128, kernel_size=(1,), stride=(1,))\n",
       "      (conv2): Conv1d(128, 128, kernel_size=(1,), stride=(1,))\n",
       "      (conv3): Conv1d(128, 256, kernel_size=(1,), stride=(1,))\n",
       "      (conv4): Conv1d(256, 512, kernel_size=(1,), stride=(1,))\n",
       "      (bn1): BatchNorm1d(128, eps=1e-05, momentum=0.1, affine=True, track_running_stats=True)\n",
       "      (bn2): BatchNorm1d(128, eps=1e-05, momentum=0.1, affine=True, track_running_stats=True)\n",
       "      (bn3): BatchNorm1d(256, eps=1e-05, momentum=0.1, affine=True, track_running_stats=True)\n",
       "      (bn4): BatchNorm1d(512, eps=1e-05, momentum=0.1, affine=True, track_running_stats=True)\n",
       "      (fc1_m): Linear(in_features=512, out_features=256, bias=True)\n",
       "      (fc2_m): Linear(in_features=256, out_features=128, bias=True)\n",
       "      (fc3_m): Linear(in_features=128, out_features=128, bias=True)\n",
       "      (fc_bn1_m): BatchNorm1d(256, eps=1e-05, momentum=0.1, affine=True, track_running_stats=True)\n",
       "      (fc_bn2_m): BatchNorm1d(128, eps=1e-05, momentum=0.1, affine=True, track_running_stats=True)\n",
       "      (fc1_v): Linear(in_features=512, out_features=256, bias=True)\n",
       "      (fc2_v): Linear(in_features=256, out_features=128, bias=True)\n",
       "      (fc3_v): Linear(in_features=128, out_features=128, bias=True)\n",
       "      (fc_bn1_v): BatchNorm1d(256, eps=1e-05, momentum=0.1, affine=True, track_running_stats=True)\n",
       "      (fc_bn2_v): BatchNorm1d(128, eps=1e-05, momentum=0.1, affine=True, track_running_stats=True)\n",
       "    )\n",
       "  )\n",
       "  (point_cnf): DataParallel(\n",
       "    (module): SequentialFlow(\n",
       "      (chain): ModuleList(\n",
       "        (0): MovingBatchNorm1d(3, eps=0.0001, decay=0.1, bn_lag=0, affine=True)\n",
       "        (1): CNF(\n",
       "          (odefunc): ODEfunc(\n",
       "            (diffeq): ODEnet(\n",
       "              (layers): ModuleList(\n",
       "                (0): ConcatSquashLinear(\n",
       "                  (_layer): Linear(in_features=3, out_features=512, bias=True)\n",
       "                  (_hyper_bias): Linear(in_features=129, out_features=512, bias=False)\n",
       "                  (_hyper_gate): Linear(in_features=129, out_features=512, bias=True)\n",
       "                )\n",
       "                (1-2): 2 x ConcatSquashLinear(\n",
       "                  (_layer): Linear(in_features=512, out_features=512, bias=True)\n",
       "                  (_hyper_bias): Linear(in_features=129, out_features=512, bias=False)\n",
       "                  (_hyper_gate): Linear(in_features=129, out_features=512, bias=True)\n",
       "                )\n",
       "                (3): ConcatSquashLinear(\n",
       "                  (_layer): Linear(in_features=512, out_features=3, bias=True)\n",
       "                  (_hyper_bias): Linear(in_features=129, out_features=3, bias=False)\n",
       "                  (_hyper_gate): Linear(in_features=129, out_features=3, bias=True)\n",
       "                )\n",
       "              )\n",
       "              (activation_fns): ModuleList(\n",
       "                (0-2): 3 x Tanh()\n",
       "              )\n",
       "            )\n",
       "          )\n",
       "        )\n",
       "        (2): MovingBatchNorm1d(3, eps=0.0001, decay=0.1, bn_lag=0, affine=True)\n",
       "      )\n",
       "    )\n",
       "  )\n",
       "  (latent_cnf): DataParallel(\n",
       "    (module): SequentialFlow(\n",
       "      (chain): ModuleList(\n",
       "        (0): MovingBatchNorm1d(128, eps=0.0001, decay=0.1, bn_lag=0, affine=True)\n",
       "        (1): CNF(\n",
       "          (odefunc): ODEfunc(\n",
       "            (diffeq): ODEnet(\n",
       "              (layers): ModuleList(\n",
       "                (0): ConcatSquashLinear(\n",
       "                  (_layer): Linear(in_features=128, out_features=256, bias=True)\n",
       "                  (_hyper_bias): Linear(in_features=1, out_features=256, bias=False)\n",
       "                  (_hyper_gate): Linear(in_features=1, out_features=256, bias=True)\n",
       "                )\n",
       "                (1): ConcatSquashLinear(\n",
       "                  (_layer): Linear(in_features=256, out_features=256, bias=True)\n",
       "                  (_hyper_bias): Linear(in_features=1, out_features=256, bias=False)\n",
       "                  (_hyper_gate): Linear(in_features=1, out_features=256, bias=True)\n",
       "                )\n",
       "                (2): ConcatSquashLinear(\n",
       "                  (_layer): Linear(in_features=256, out_features=128, bias=True)\n",
       "                  (_hyper_bias): Linear(in_features=1, out_features=128, bias=False)\n",
       "                  (_hyper_gate): Linear(in_features=1, out_features=128, bias=True)\n",
       "                )\n",
       "              )\n",
       "              (activation_fns): ModuleList(\n",
       "                (0-1): 2 x Tanh()\n",
       "              )\n",
       "            )\n",
       "          )\n",
       "        )\n",
       "        (2): MovingBatchNorm1d(128, eps=0.0001, decay=0.1, bn_lag=0, affine=True)\n",
       "      )\n",
       "    )\n",
       "  )\n",
       ")"
      ]
     },
     "execution_count": 11,
     "metadata": {},
     "output_type": "execute_result"
    }
   ],
   "source": [
    "model = PointFlow(args)\n",
    "def _transform_(m):\n",
    "        return nn.DataParallel(m, device_ids=[0])\n",
    "\n",
    "model = model.cuda()\n",
    "model.multi_gpu_wrapper(_transform_)\n",
    "print(\"Resume Path:%s\" % args.resume_checkpoint)\n",
    "checkpoint = torch.load(args.resume_checkpoint)\n",
    "model.load_state_dict(checkpoint)\n",
    "model.eval()"
   ]
  },
  {
   "cell_type": "code",
   "execution_count": 12,
   "metadata": {},
   "outputs": [
    {
     "name": "stdout",
     "output_type": "stream",
     "text": [
      "Total number of data:2832\n",
      "Min number of points: (train)2048 (test)2048\n",
      "Total number of data:405\n",
      "Min number of points: (train)2048 (test)2048\n"
     ]
    }
   ],
   "source": [
    "with torch.no_grad():\n",
    "    loader = get_test_loader(args)\n",
    "    all_sample = []\n",
    "    all_ref = []\n",
    "    for data in loader:\n",
    "        idx_b, te_pc = data[\"idx\"], data[\"test_points\"]\n",
    "        te_pc = te_pc.cuda() if args.gpu is None else te_pc.cuda(args.gpu)\n",
    "        B, N = te_pc.size(0), te_pc.size(1)\n",
    "        _, out_pc = model.sample(B, N)\n",
    "\n",
    "        # denormalize\n",
    "        m, s = data[\"mean\"].float(), data[\"std\"].float()\n",
    "        m = m.cuda() if args.gpu is None else m.cuda(args.gpu)\n",
    "        s = s.cuda() if args.gpu is None else s.cuda(args.gpu)\n",
    "        out_pc = out_pc * s + m\n",
    "        te_pc = te_pc * s + m\n",
    "\n",
    "        all_sample.append(out_pc)\n",
    "        all_ref.append(te_pc)\n",
    "\n",
    "    sample_pcs = torch.cat(all_sample, dim=0)\n",
    "    ref_pcs = torch.cat(all_ref, dim=0)"
   ]
  },
  {
   "cell_type": "code",
   "execution_count": 13,
   "metadata": {},
   "outputs": [
    {
     "data": {
      "text/plain": [
       "torch.Size([405, 4096, 3])"
      ]
     },
     "execution_count": 13,
     "metadata": {},
     "output_type": "execute_result"
    }
   ],
   "source": [
    "jnt = torch.cat([sample_pcs,ref_pcs],axis=1)\n",
    "jnt.shape"
   ]
  },
  {
   "cell_type": "code",
   "execution_count": 14,
   "metadata": {},
   "outputs": [],
   "source": [
    "s = sample_pcs - sample_pcs.mean(dim=-2,keepdim=True)\n",
    "s /= s.norm(dim=-1,keepdim=True)"
   ]
  },
  {
   "cell_type": "code",
   "execution_count": 15,
   "metadata": {},
   "outputs": [
    {
     "data": {
      "text/plain": [
       "tensor([1.0000, 1.0000, 1.0000,  ..., 1.0000, 1.0000, 1.0000], device='cuda:0')"
      ]
     },
     "execution_count": 15,
     "metadata": {},
     "output_type": "execute_result"
    }
   ],
   "source": [
    "s[1].norm(dim=-1)"
   ]
  },
  {
   "cell_type": "code",
   "execution_count": 16,
   "metadata": {},
   "outputs": [],
   "source": [
    "# means = sample_pcs.mean(dim=-2,keepdim=True)\n",
    "# sample_pcs = sample_pcs - means"
   ]
  },
  {
   "cell_type": "code",
   "execution_count": 17,
   "metadata": {},
   "outputs": [],
   "source": [
    "# means.squeeze()"
   ]
  },
  {
   "cell_type": "code",
   "execution_count": 18,
   "metadata": {},
   "outputs": [
    {
     "data": {
      "text/plain": [
       "tensor(0.6900, device='cuda:0')"
      ]
     },
     "execution_count": 18,
     "metadata": {},
     "output_type": "execute_result"
    }
   ],
   "source": [
    "sample_pcs.norm(dim=-1).max(dim=-1)[0].max()"
   ]
  },
  {
   "cell_type": "code",
   "execution_count": 19,
   "metadata": {},
   "outputs": [
    {
     "data": {
      "application/vnd.jupyter.widget-view+json": {
       "model_id": "53f36532bbc243a193f49ffaefd3d390",
       "version_major": 2,
       "version_minor": 0
      },
      "text/plain": [
       "Widget(value='<iframe src=\"http://localhost:60916/index.html?ui=P_0x1f2304891e0_0&reconnect=auto\" class=\"pyvis…"
      ]
     },
     "metadata": {},
     "output_type": "display_data"
    }
   ],
   "source": [
    "pl = pv.Plotter(shape=(3,10), window_size=[1600, 600],border=False,polygon_smoothing=True)\n",
    "offset = 290\n",
    "for col in range(10):\n",
    "    points = ref_pcs[col+offset].reshape(-1, 3).detach().cpu().numpy()\n",
    "    pl.subplot(0, col)\n",
    "    actor = pl.add_points(\n",
    "        points,\n",
    "        style=\"points\",\n",
    "        emissive=False,\n",
    "        show_scalar_bar=False,\n",
    "        render_points_as_spheres=True,\n",
    "        scalars=points[:, 2],\n",
    "        point_size=2,\n",
    "        ambient=0.2, \n",
    "        diffuse=0.8, \n",
    "        specular=0.8,\n",
    "        specular_power=40, \n",
    "        smooth_shading=True\n",
    "    )\n",
    "    points = sample_pcs[col+offset].reshape(-1, 3).detach().cpu().numpy()\n",
    "    pl.subplot(1, col)\n",
    "    actor = pl.add_points(\n",
    "        points,\n",
    "        style=\"points\",\n",
    "        emissive=False,\n",
    "        show_scalar_bar=False,\n",
    "        render_points_as_spheres=True,\n",
    "        scalars=points[:, 2],\n",
    "        point_size=2,\n",
    "        ambient=0.2, \n",
    "        diffuse=0.8, \n",
    "        specular=0.8,\n",
    "        specular_power=40, \n",
    "        smooth_shading=True\n",
    "    )\n",
    "    points = jnt[col+offset].reshape(-1, 3).detach().cpu().numpy()\n",
    "    pl.subplot(2, col)\n",
    "    actor = pl.add_points(\n",
    "        points,\n",
    "        style=\"points\",\n",
    "        emissive=False,\n",
    "        show_scalar_bar=False,\n",
    "        render_points_as_spheres=True,\n",
    "        scalars=points[:, 2],\n",
    "        point_size=2,\n",
    "        ambient=0.2, \n",
    "        diffuse=0.8, \n",
    "        specular=0.8,\n",
    "        specular_power=40, \n",
    "        smooth_shading=True\n",
    "    )\n",
    "\n",
    "\n",
    "pl.background_color = \"w\"\n",
    "pl.link_views()\n",
    "pl.camera_position = \"yz\"\n",
    "pos = pl.camera.position\n",
    "pl.camera.position = (pos[0],pos[1],pos[2]+3)\n",
    "pl.camera.azimuth = -45\n",
    "pl.camera.elevation = 10\n",
    "# create a top down light\n",
    "light = pv.Light(position=(0, 0, 3), positional=True,\n",
    "                cone_angle=50, exponent=20, intensity=.2)\n",
    "pl.add_light(light)\n",
    "pl.camera.zoom(1.3)\n",
    "pl.screenshot(f\"./pointcloud_{offset}.png\",transparent_background=True,scale=2)\n",
    "pl.show()"
   ]
  },
  {
   "cell_type": "markdown",
   "metadata": {},
   "source": [
    "# Reference PointClouds"
   ]
  },
  {
   "cell_type": "code",
   "execution_count": 20,
   "metadata": {},
   "outputs": [
    {
     "data": {
      "application/vnd.jupyter.widget-view+json": {
       "model_id": "52d0ac044d534e51a63fee5a556afdcf",
       "version_major": 2,
       "version_minor": 0
      },
      "text/plain": [
       "Widget(value='<iframe src=\"http://localhost:60916/index.html?ui=P_0x1f24dba97e0_1&reconnect=auto\" class=\"pyvis…"
      ]
     },
     "metadata": {},
     "output_type": "display_data"
    }
   ],
   "source": [
    "# sample_pcs = torch.tensor(np.load(\"./pretrained_models/gen/chair/model_out_smp.npy\"))\n",
    "\n",
    "\n",
    "pl = pv.Plotter(shape=(8,8), window_size=[1600, 1600],border=False,polygon_smoothing=True)\n",
    "offset = 64\n",
    "for row in range(8):\n",
    "    for col in range(8):\n",
    "        points = sample_pcs[row*8 + col + offset].reshape(-1, 3).detach().cpu().numpy()\n",
    "        pl.subplot(row, col)\n",
    "        actor = pl.add_points(\n",
    "            points,\n",
    "            style=\"points\",\n",
    "            emissive=False,\n",
    "            show_scalar_bar=False,\n",
    "            render_points_as_spheres=True,\n",
    "            scalars=points[:, 2],\n",
    "            point_size=2,\n",
    "            ambient=0.2, \n",
    "            diffuse=0.8, \n",
    "            specular=0.8,\n",
    "            specular_power=40, \n",
    "            smooth_shading=True\n",
    "        )\n",
    "\n",
    "\n",
    "pl.background_color = \"w\"\n",
    "pl.link_views()\n",
    "pl.camera_position = \"yz\"\n",
    "pos = pl.camera.position\n",
    "pl.camera.position = (pos[0],pos[1],pos[2]+3)\n",
    "pl.camera.azimuth = -45\n",
    "pl.camera.elevation = 10\n",
    "# create a top down light\n",
    "light = pv.Light(position=(0, 0, 3), positional=True,\n",
    "                cone_angle=50, exponent=20, intensity=.2)\n",
    "pl.add_light(light)\n",
    "pl.camera.zoom(1.3)\n",
    "pl.show()"
   ]
  },
  {
   "cell_type": "code",
   "execution_count": 21,
   "metadata": {},
   "outputs": [
    {
     "name": "stdout",
     "output_type": "stream",
     "text": [
      "torch.Size([405, 2048])\n",
      "torch.Size([405, 2048])\n",
      "tensor([0.4226, 0.4307, 0.4141, 0.4635, 0.4222, 0.4152, 0.4568, 0.4234, 0.4285,\n",
      "        0.4188, 0.4052, 0.4329, 0.3984, 0.3675, 0.4370, 0.4203, 0.3671, 0.4309,\n",
      "        0.4007, 0.4282, 0.3954, 0.4156, 0.4053, 0.3767, 0.4292, 0.4333, 0.4382,\n",
      "        0.3808, 0.4402, 0.4178, 0.4351, 0.4322, 0.3726, 0.4351, 0.3932, 0.3923,\n",
      "        0.4174, 0.3703, 0.4378, 0.4046, 0.3993, 0.4396, 0.4384, 0.5081, 0.4458,\n",
      "        0.3946, 0.4226, 0.3814, 0.4206, 0.4359, 0.4360, 0.5293, 0.3934, 0.3668,\n",
      "        0.4268, 0.4288, 0.3602, 0.4404, 0.3848, 0.4229, 0.4659, 0.4854, 0.4199,\n",
      "        0.4000, 0.4432, 0.4478, 0.4171, 0.3995, 0.3899, 0.4393, 0.3931, 0.4010,\n",
      "        0.4284, 0.4056, 0.4093, 0.4217, 0.4116, 0.4237, 0.3915, 0.4350, 0.5025,\n",
      "        0.3736, 0.4304, 0.4485, 0.3818, 0.4070, 0.3733, 0.3923, 0.4467, 0.4450,\n",
      "        0.4763, 0.4420, 0.4096, 0.4059, 0.4122, 0.4191, 0.4946, 0.4270, 0.3704,\n",
      "        0.4129, 0.3798, 0.4175, 0.3869, 0.4071, 0.3900, 0.4651, 0.3956, 0.4472,\n",
      "        0.3788, 0.4102, 0.3900, 0.4114, 0.4061, 0.4273, 0.3739, 0.4148, 0.4146,\n",
      "        0.4076, 0.4312, 0.4282, 0.4206, 0.3998, 0.4086, 0.4374, 0.4303, 0.4440,\n",
      "        0.4798, 0.4332, 0.4120, 0.4557, 0.4454, 0.3638, 0.4091, 0.4326, 0.4306,\n",
      "        0.4007, 0.3652, 0.4459, 0.4367, 0.3848, 0.4707, 0.4653, 0.3558, 0.4747,\n",
      "        0.3807, 0.4804, 0.4319, 0.4574, 0.4744, 0.4135, 0.4791, 0.4864, 0.4494,\n",
      "        0.4357, 0.3650, 0.3705, 0.4217, 0.4748, 0.4096, 0.4413, 0.3799, 0.3793,\n",
      "        0.4533, 0.4098, 0.4345, 0.4312, 0.4831, 0.4350, 0.4358, 0.4375, 0.3832,\n",
      "        0.4881, 0.4844, 0.3809, 0.4005, 0.4352, 0.3784, 0.4498, 0.4555, 0.4394,\n",
      "        0.4178, 0.4093, 0.4113, 0.4057, 0.4046, 0.4552, 0.5392, 0.4196, 0.4260,\n",
      "        0.4530, 0.3701, 0.4012, 0.4049, 0.4326, 0.4408, 0.4044, 0.6147, 0.3732,\n",
      "        0.4368, 0.4485, 0.3838, 0.3954, 0.4942, 0.4346, 0.4130, 0.4336, 0.4214,\n",
      "        0.3803, 0.5725, 0.4346, 0.4475, 0.3974, 0.3935, 0.3885, 0.4229, 0.4651,\n",
      "        0.4261, 0.3915, 0.4332, 0.4349, 0.4402, 0.4415, 0.4243, 0.4396, 0.4048,\n",
      "        0.4478, 0.4452, 0.4099, 0.4366, 0.4403, 0.4200, 0.3974, 0.3739, 0.4035,\n",
      "        0.4288, 0.4328, 0.4382, 0.4707, 0.4121, 0.4088, 0.3869, 0.4483, 0.5288,\n",
      "        0.4273, 0.4350, 0.4676, 0.4374, 0.4585, 0.4207, 0.4042, 0.4010, 0.3851,\n",
      "        0.4020, 0.5111, 0.4081, 0.4059, 0.4205, 0.4138, 0.5010, 0.4960, 0.4108,\n",
      "        0.3757, 0.4052, 0.3973, 0.5327, 0.4281, 0.4368, 0.4229, 0.4212, 0.5030,\n",
      "        0.4510, 0.4351, 0.3979, 0.3952, 0.4203, 0.4246, 0.3947, 0.4384, 0.4084,\n",
      "        0.4098, 0.4283, 0.5201, 0.4679, 0.4063, 0.4578, 0.3808, 0.4173, 0.4626,\n",
      "        0.4230, 0.4213, 0.3884, 0.4379, 0.4068, 0.3917, 0.4295, 0.4169, 0.3829,\n",
      "        0.4076, 0.4713, 0.5156, 0.4144, 0.4042, 0.4709, 0.3926, 0.3847, 0.4161,\n",
      "        0.4053, 0.3967, 0.3995, 0.4003, 0.4000, 0.4106, 0.4159, 0.3974, 0.3891,\n",
      "        0.3833, 0.4218, 0.4277, 0.4156, 0.4715, 0.4229, 0.4013, 0.5038, 0.4262,\n",
      "        0.4577, 0.4075, 0.4212, 0.4404, 0.4647, 0.4351, 0.4224, 0.3807, 0.4855,\n",
      "        0.3777, 0.4163, 0.4441, 0.4302, 0.4255, 0.4054, 0.4099, 0.4062, 0.4062,\n",
      "        0.3803, 0.3783, 0.4014, 0.4397, 0.3998, 0.3870, 0.4329, 0.3901, 0.4321,\n",
      "        0.4216, 0.5005, 0.4438, 0.3428, 0.4201, 0.4065, 0.4236, 0.4330, 0.3840,\n",
      "        0.4534, 0.4188, 0.4062, 0.4025, 0.3838, 0.3971, 0.4220, 0.4067, 0.3999,\n",
      "        0.4772, 0.3866, 0.4245, 0.4275, 0.4170, 0.4182, 0.3904, 0.4071, 0.3903,\n",
      "        0.3849, 0.4249, 0.4476, 0.4490, 0.4591, 0.4040, 0.4378, 0.4826, 0.3063,\n",
      "        0.4225, 0.5272, 0.4175, 0.4040, 0.4250, 0.4545, 0.3572, 0.3918, 0.4627,\n",
      "        0.3706, 0.4113, 0.4313, 0.3602, 0.3981, 0.3845, 0.4111, 0.4128, 0.4515],\n",
      "       device='cuda:0')\n",
      "tensor([0.4464, 0.4092, 0.4232, 0.4316, 0.4399, 0.3907, 0.4640, 0.3802, 0.4607,\n",
      "        0.4346, 0.4558, 0.4582, 0.4193, 0.4774, 0.4180, 0.3957, 0.4040, 0.4049,\n",
      "        0.5378, 0.4652, 0.4094, 0.6024, 0.4046, 0.4209, 0.4744, 0.4419, 0.5012,\n",
      "        0.4342, 0.4231, 0.4675, 0.4655, 0.4077, 0.4551, 0.5197, 0.4400, 0.3907,\n",
      "        0.2958, 0.4248, 0.4608, 0.4518, 0.4476, 0.4385, 0.4028, 0.4339, 0.4348,\n",
      "        0.4085, 0.4435, 0.4658, 0.3892, 0.3967, 0.4253, 0.4485, 0.4586, 0.3914,\n",
      "        0.3827, 0.4308, 0.4370, 0.4257, 0.4423, 0.4720, 0.4571, 0.3774, 0.4075,\n",
      "        0.4982, 0.5011, 0.4491, 0.4134, 0.3737, 0.3970, 0.4093, 0.4462, 0.4355,\n",
      "        0.4381, 0.4490, 0.5549, 0.4283, 0.4471, 0.4468, 0.4708, 0.4211, 0.6093,\n",
      "        0.4054, 0.3963, 0.4328, 0.4606, 0.4584, 0.4347, 0.4637, 0.4395, 0.4227,\n",
      "        0.4500, 0.4501, 0.4265, 0.5534, 0.4325, 0.4744, 0.4561, 0.4324, 0.5170,\n",
      "        0.4199, 0.4041, 0.4370, 0.4445, 0.4531, 0.4348, 0.4348, 0.3992, 0.4332,\n",
      "        0.4112, 0.4423, 0.4282, 0.4401, 0.4643, 0.4152, 0.4244, 0.4685, 0.4178,\n",
      "        0.4805, 0.5325, 0.4441, 0.4601, 0.4185, 0.4725, 0.4627, 0.3883, 0.4580,\n",
      "        0.4679, 0.4605, 0.4453, 0.4669, 0.4195, 0.4015, 0.4610, 0.3994, 0.4374,\n",
      "        0.4278, 0.3891, 0.4066, 0.4196, 0.4173, 0.4280, 0.4667, 0.4808, 0.4529,\n",
      "        0.5414, 0.3897, 0.3862, 0.4225, 0.4147, 0.4518, 0.5106, 0.4487, 0.4511,\n",
      "        0.4895, 0.4575, 0.3949, 0.4154, 0.4374, 0.4454, 0.3789, 0.4583, 0.2452,\n",
      "        0.5835, 0.6010, 0.4167, 0.4796, 0.3925, 0.4201, 0.4185, 0.4820, 0.4407,\n",
      "        0.4035, 0.3705, 0.4330, 0.4457, 0.4078, 0.4304, 0.4493, 0.4431, 0.4314,\n",
      "        0.3993, 0.3926, 0.3903, 0.4438, 0.4475, 0.4699, 0.4401, 0.5050, 0.3923,\n",
      "        0.4724, 0.4743, 0.4747, 0.4214, 0.4169, 0.4746, 0.4797, 0.3883, 0.4183,\n",
      "        0.4467, 0.4167, 0.3932, 0.4881, 0.4505, 0.4050, 0.6035, 0.4655, 0.4118,\n",
      "        0.4667, 0.3938, 0.5364, 0.4303, 0.4221, 0.4070, 0.3982, 0.5077, 0.4434,\n",
      "        0.3850, 0.4293, 0.4983, 0.4270, 0.4700, 0.4112, 0.4357, 0.3951, 0.4702,\n",
      "        0.4348, 0.4560, 0.4849, 0.4692, 0.4708, 0.4515, 0.4485, 0.4573, 0.4144,\n",
      "        0.6900, 0.4467, 0.4180, 0.4120, 0.4164, 0.4278, 0.4105, 0.5067, 0.5302,\n",
      "        0.4548, 0.4119, 0.4181, 0.4138, 0.4361, 0.4142, 0.4539, 0.4526, 0.4188,\n",
      "        0.4428, 0.4155, 0.4299, 0.3912, 0.4213, 0.4187, 0.4143, 0.4384, 0.4845,\n",
      "        0.4441, 0.4556, 0.4106, 0.4071, 0.4591, 0.4269, 0.4583, 0.4689, 0.3949,\n",
      "        0.4259, 0.4076, 0.5421, 0.4319, 0.4182, 0.3952, 0.4438, 0.4149, 0.4313,\n",
      "        0.4122, 0.4113, 0.4712, 0.4188, 0.4181, 0.4326, 0.4618, 0.4013, 0.4326,\n",
      "        0.4114, 0.4225, 0.4071, 0.3942, 0.4413, 0.4784, 0.3973, 0.4216, 0.4553,\n",
      "        0.3827, 0.4310, 0.4202, 0.3939, 0.4394, 0.4735, 0.4052, 0.3935, 0.4379,\n",
      "        0.4248, 0.4344, 0.3944, 0.4189, 0.4491, 0.4924, 0.4773, 0.4530, 0.4126,\n",
      "        0.4784, 0.4570, 0.4697, 0.4084, 0.5018, 0.4469, 0.5635, 0.4199, 0.4697,\n",
      "        0.4470, 0.4271, 0.4389, 0.3994, 0.4481, 0.3954, 0.6735, 0.4107, 0.4854,\n",
      "        0.4464, 0.4213, 0.4713, 0.3929, 0.4229, 0.4862, 0.4830, 0.4445, 0.5242,\n",
      "        0.4441, 0.4430, 0.4195, 0.6064, 0.4160, 0.4038, 0.4101, 0.4406, 0.4300,\n",
      "        0.5040, 0.4732, 0.3974, 0.5141, 0.5512, 0.3878, 0.4560, 0.4037, 0.5827,\n",
      "        0.4309, 0.4011, 0.5866, 0.4566, 0.4188, 0.4423, 0.4943, 0.4640, 0.4977,\n",
      "        0.4550, 0.4025, 0.3813, 0.4248, 0.3967, 0.4304, 0.4315, 0.5854, 0.3928,\n",
      "        0.4131, 0.4223, 0.4223, 0.4394, 0.4164, 0.4325, 0.4301, 0.4719, 0.4128,\n",
      "        0.3988, 0.5295, 0.4548, 0.4109, 0.4636, 0.4058, 0.4227, 0.5245, 0.5278,\n",
      "        0.4212, 0.4814, 0.4034, 0.4461, 0.4395, 0.5169, 0.4769, 0.4616, 0.3755],\n",
      "       device='cuda:0')\n"
     ]
    }
   ],
   "source": [
    "samples_norm = sample_pcs.norm(dim=-1)\n",
    "ref_norm = ref_pcs.norm(dim=-1)\n",
    "print(ref_norm.shape)\n",
    "print(samples_norm.shape)\n",
    "\n",
    "\n",
    "print(ref_norm.max(axis=-1)[0])\n",
    "print(samples_norm.max(axis=-1)[0])"
   ]
  },
  {
   "cell_type": "code",
   "execution_count": 22,
   "metadata": {},
   "outputs": [
    {
     "name": "stdout",
     "output_type": "stream",
     "text": [
      "tensor(0.2452, device='cuda:0')\n"
     ]
    }
   ],
   "source": [
    "print(samples_norm.max(axis=-1)[0].min())"
   ]
  },
  {
   "cell_type": "code",
   "execution_count": null,
   "metadata": {},
   "outputs": [],
   "source": []
  }
 ],
 "metadata": {
  "kernelspec": {
   "display_name": "Python 3",
   "language": "python",
   "name": "python3"
  },
  "language_info": {
   "codemirror_mode": {
    "name": "ipython",
    "version": 3
   },
   "file_extension": ".py",
   "mimetype": "text/x-python",
   "name": "python",
   "nbconvert_exporter": "python",
   "pygments_lexer": "ipython3",
   "version": "3.10.11"
  }
 },
 "nbformat": 4,
 "nbformat_minor": 2
}
