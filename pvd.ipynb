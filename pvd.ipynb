{
 "cells": [
  {
   "cell_type": "code",
   "execution_count": 4,
   "metadata": {},
   "outputs": [],
   "source": [
    "from datasets import get_datasets, synsetid_to_cate\n",
    "from args import get_parser\n",
    "from pprint import pprint\n",
    "# from metrics.evaluation_metrics import EMD_CD\n",
    "# from metrics.evaluation_metrics import jsd_between_point_cloud_sets as JSD\n",
    "# from metrics.evaluation_metrics import compute_all_metrics\n",
    "from collections import defaultdict\n",
    "from models.networks import PointFlow\n",
    "import os\n",
    "import torch\n",
    "import numpy as np\n",
    "import torch.nn as nn\n",
    "import pyvista as pv\n",
    "\n",
    "\n",
    "\n",
    "################################################################################\n",
    "# Import model and additional stuff\n",
    "################################################################################\n",
    "\n",
    "from omegaconf import OmegaConf\n",
    "from model_wrapper import TopologicalModelEncoder\n",
    "from load_models import load_encoder, load_vae\n",
    "\n",
    "\n",
    "################################################################################\n",
    "################################################################################\n",
    "\n",
    "\n",
    "def get_test_loader(args):\n",
    "    _, te_dataset = get_datasets(args)\n",
    "    if args.resume_dataset_mean is not None and args.resume_dataset_std is not None:\n",
    "        mean = np.load(args.resume_dataset_mean)\n",
    "        std = np.load(args.resume_dataset_std)\n",
    "        te_dataset.renormalize(mean, std)\n",
    "    loader = torch.utils.data.DataLoader(\n",
    "        dataset=te_dataset,\n",
    "        batch_size=args.batch_size,\n",
    "        shuffle=False,\n",
    "        num_workers=0,\n",
    "        pin_memory=True,\n",
    "        drop_last=False,\n",
    "    )\n",
    "    return loader"
   ]
  },
  {
   "cell_type": "code",
   "execution_count": 7,
   "metadata": {},
   "outputs": [],
   "source": [
    "import torch \n",
    "s = torch.load(\"./pvd/samples.pth\")"
   ]
  },
  {
   "cell_type": "code",
   "execution_count": 10,
   "metadata": {},
   "outputs": [
    {
     "data": {
      "application/vnd.jupyter.widget-view+json": {
       "model_id": "4503472c5b6640d4aaa118cf951e14e1",
       "version_major": 2,
       "version_minor": 0
      },
      "text/plain": [
       "Widget(value='<iframe src=\"http://localhost:65474/index.html?ui=P_0x2731f494a30_3&reconnect=auto\" class=\"pyvis…"
      ]
     },
     "metadata": {},
     "output_type": "display_data"
    }
   ],
   "source": [
    "pl = pv.Plotter(shape=(8,8), window_size=[1600, 1600],border=False,polygon_smoothing=True)\n",
    "\n",
    "for row in range(8):\n",
    "    for col in range(8):\n",
    "        points = s[row*8 + col].reshape(-1, 3).detach().cpu().numpy()\n",
    "        pl.subplot(row, col)\n",
    "        actor = pl.add_points(\n",
    "            points,\n",
    "            style=\"points\",\n",
    "            emissive=False,\n",
    "            show_scalar_bar=False,\n",
    "            render_points_as_spheres=True,\n",
    "            scalars=points[:, 2],\n",
    "            point_size=2,\n",
    "            ambient=0.2, \n",
    "            diffuse=0.8, \n",
    "            specular=0.8,\n",
    "            specular_power=40, \n",
    "            smooth_shading=True\n",
    "        )\n",
    "\n",
    "\n",
    "pl.background_color = \"w\"\n",
    "pl.link_views()\n",
    "pl.camera_position = \"yz\"\n",
    "pos = pl.camera.position\n",
    "pl.camera.position = (pos[0],pos[1],pos[2]+3)\n",
    "pl.camera.azimuth = -45\n",
    "pl.camera.elevation = 10\n",
    "# create a top down light\n",
    "light = pv.Light(position=(0, 0, 3), positional=True,\n",
    "                cone_angle=50, exponent=20, intensity=.2)\n",
    "pl.add_light(light)\n",
    "pl.camera.zoom(1.3)\n",
    "pl.show()"
   ]
  }
 ],
 "metadata": {
  "kernelspec": {
   "display_name": "Python 3",
   "language": "python",
   "name": "python3"
  },
  "language_info": {
   "codemirror_mode": {
    "name": "ipython",
    "version": 3
   },
   "file_extension": ".py",
   "mimetype": "text/x-python",
   "name": "python",
   "nbconvert_exporter": "python",
   "pygments_lexer": "ipython3",
   "version": "3.10.11"
  }
 },
 "nbformat": 4,
 "nbformat_minor": 2
}
