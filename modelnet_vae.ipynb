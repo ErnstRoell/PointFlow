{
 "cells": [
  {
   "cell_type": "markdown",
   "metadata": {},
   "source": [
    "## Prepare imports"
   ]
  },
  {
   "cell_type": "code",
   "execution_count": 2,
   "metadata": {},
   "outputs": [],
   "source": [
    "from datasets import get_datasets, synsetid_to_cate\n",
    "from args import get_parser\n",
    "from pprint import pprint\n",
    "# from metrics.evaluation_metrics import EMD_CD\n",
    "# from metrics.evaluation_metrics import jsd_between_point_cloud_sets as JSD\n",
    "# from metrics.evaluation_metrics import compute_all_metrics\n",
    "from collections import defaultdict\n",
    "from models.networks import PointFlow\n",
    "import os\n",
    "import torch\n",
    "import numpy as np\n",
    "import torch.nn as nn\n",
    "import pyvista as pv\n",
    "\n",
    "import matplotlib.pyplot as plt\n",
    "\n",
    "plt.close(\"all\")\n",
    "\n",
    "\n",
    "################################################################################\n",
    "# Import model and additional stuff\n",
    "################################################################################\n",
    "\n",
    "from omegaconf import OmegaConf\n",
    "from model_wrapper import TopologicalModelVAE\n",
    "from load_models import load_encoder, load_vae\n",
    "\n",
    "\n",
    "################################################################################\n",
    "################################################################################\n",
    "\n",
    "\n",
    "def get_test_loader(args):\n",
    "    _, te_dataset = get_datasets(args)\n",
    "    if args.resume_dataset_mean is not None and args.resume_dataset_std is not None:\n",
    "        mean = np.load(args.resume_dataset_mean)\n",
    "        std = np.load(args.resume_dataset_std)\n",
    "        te_dataset.renormalize(mean, std)\n",
    "    loader = torch.utils.data.DataLoader(\n",
    "        dataset=te_dataset,\n",
    "        batch_size=args.batch_size,\n",
    "        shuffle=False,\n",
    "        num_workers=0,\n",
    "        pin_memory=True,\n",
    "        drop_last=False,\n",
    "    )\n",
    "    return loader\n",
    "\n"
   ]
  },
  {
   "cell_type": "code",
   "execution_count": 3,
   "metadata": {},
   "outputs": [],
   "source": [
    "p = get_parser()\n",
    "args, unknown = p.parse_known_args()\n"
   ]
  },
  {
   "cell_type": "code",
   "execution_count": 4,
   "metadata": {},
   "outputs": [
    {
     "name": "stdout",
     "output_type": "stream",
     "text": [
      "  | Name                | Type             | Params\n",
      "---------------------------------------------------------\n",
      "0 | layer               | EctLayer         | 0     \n",
      "1 | training_accuracy   | MeanSquaredError | 0     \n",
      "2 | validation_accuracy | MeanSquaredError | 0     \n",
      "3 | test_accuracy       | MeanSquaredError | 0     \n",
      "4 | loss_fn             | MSELoss          | 0     \n",
      "5 | model               | Sequential       | 39.9 M\n",
      "---------------------------------------------------------\n",
      "39.9 M    Trainable params\n",
      "0         Non-trainable params\n",
      "39.9 M    Total params\n",
      "159.433   Total estimated model params size (MB)\n"
     ]
    },
    {
     "name": "stderr",
     "output_type": "stream",
     "text": [
      "C:\\Users\\ernst\\AppData\\Local\\Packages\\PythonSoftwareFoundation.Python.3.10_qbz5n2kfra8p0\\LocalCache\\local-packages\\Python310\\site-packages\\lightning\\pytorch\\utilities\\migration\\utils.py:56: The loaded checkpoint was produced with Lightning v2.3.3, which is newer than your current Lightning version: v2.2.3\n"
     ]
    },
    {
     "data": {
      "text/plain": [
       "VanillaVAE(\n",
       "  (encoder): Sequential(\n",
       "    (0): Sequential(\n",
       "      (0): Conv2d(1, 32, kernel_size=(3, 3), stride=(2, 2), padding=(1, 1))\n",
       "      (1): BatchNorm2d(32, eps=1e-05, momentum=0.1, affine=True, track_running_stats=True)\n",
       "      (2): LeakyReLU(negative_slope=0.01)\n",
       "    )\n",
       "    (1): Sequential(\n",
       "      (0): Conv2d(32, 64, kernel_size=(3, 3), stride=(2, 2), padding=(1, 1))\n",
       "      (1): BatchNorm2d(64, eps=1e-05, momentum=0.1, affine=True, track_running_stats=True)\n",
       "      (2): LeakyReLU(negative_slope=0.01)\n",
       "    )\n",
       "    (2): Sequential(\n",
       "      (0): Conv2d(64, 128, kernel_size=(3, 3), stride=(2, 2), padding=(1, 1))\n",
       "      (1): BatchNorm2d(128, eps=1e-05, momentum=0.1, affine=True, track_running_stats=True)\n",
       "      (2): LeakyReLU(negative_slope=0.01)\n",
       "    )\n",
       "    (3): Sequential(\n",
       "      (0): Conv2d(128, 256, kernel_size=(3, 3), stride=(2, 2), padding=(1, 1))\n",
       "      (1): BatchNorm2d(256, eps=1e-05, momentum=0.1, affine=True, track_running_stats=True)\n",
       "      (2): LeakyReLU(negative_slope=0.01)\n",
       "    )\n",
       "    (4): Sequential(\n",
       "      (0): Conv2d(256, 512, kernel_size=(3, 3), stride=(2, 2), padding=(1, 1))\n",
       "      (1): BatchNorm2d(512, eps=1e-05, momentum=0.1, affine=True, track_running_stats=True)\n",
       "      (2): LeakyReLU(negative_slope=0.01)\n",
       "    )\n",
       "  )\n",
       "  (fc_mu): Linear(in_features=4608, out_features=256, bias=True)\n",
       "  (fc_var): Linear(in_features=4608, out_features=256, bias=True)\n",
       "  (decoder_input): Linear(in_features=256, out_features=4608, bias=True)\n",
       "  (decoder): Sequential(\n",
       "    (0): Sequential(\n",
       "      (0): ConvTranspose2d(512, 256, kernel_size=(3, 3), stride=(2, 2), padding=(1, 1), output_padding=(1, 1))\n",
       "      (1): BatchNorm2d(256, eps=1e-05, momentum=0.1, affine=True, track_running_stats=True)\n",
       "      (2): LeakyReLU(negative_slope=0.01)\n",
       "    )\n",
       "    (1): Sequential(\n",
       "      (0): ConvTranspose2d(256, 128, kernel_size=(3, 3), stride=(2, 2), padding=(1, 1), output_padding=(1, 1))\n",
       "      (1): BatchNorm2d(128, eps=1e-05, momentum=0.1, affine=True, track_running_stats=True)\n",
       "      (2): LeakyReLU(negative_slope=0.01)\n",
       "    )\n",
       "    (2): Sequential(\n",
       "      (0): ConvTranspose2d(128, 64, kernel_size=(3, 3), stride=(2, 2), padding=(1, 1), output_padding=(1, 1))\n",
       "      (1): BatchNorm2d(64, eps=1e-05, momentum=0.1, affine=True, track_running_stats=True)\n",
       "      (2): LeakyReLU(negative_slope=0.01)\n",
       "    )\n",
       "    (3): Sequential(\n",
       "      (0): ConvTranspose2d(64, 32, kernel_size=(3, 3), stride=(2, 2), padding=(1, 1), output_padding=(1, 1))\n",
       "      (1): BatchNorm2d(32, eps=1e-05, momentum=0.1, affine=True, track_running_stats=True)\n",
       "      (2): LeakyReLU(negative_slope=0.01)\n",
       "    )\n",
       "  )\n",
       "  (final_layer): Sequential(\n",
       "    (0): ConvTranspose2d(32, 32, kernel_size=(3, 3), stride=(2, 2), padding=(1, 1), output_padding=(1, 1))\n",
       "    (1): BatchNorm2d(32, eps=1e-05, momentum=0.1, affine=True, track_running_stats=True)\n",
       "    (2): LeakyReLU(negative_slope=0.01)\n",
       "    (3): Conv2d(32, 1, kernel_size=(3, 3), stride=(1, 1), padding=(1, 1))\n",
       "    (4): Tanh()\n",
       "  )\n",
       ")"
      ]
     },
     "execution_count": 4,
     "metadata": {},
     "output_type": "execute_result"
    }
   ],
   "source": [
    "# Instead of PointFlow we load our own modelwrapper, that\n",
    "# handles the function signatures of input and output.\n",
    "ect_config = OmegaConf.load(\n",
    "    f\"./configs/config_encoder_shapenet_{args.cates[0]}.yaml\"\n",
    ")\n",
    "vae_config = OmegaConf.load(f\"./configs/config_vae_shapenet_{args.cates[0]}.yaml\")\n",
    "\n",
    "encoder_model = load_encoder(ect_config)\n",
    "vae = load_vae(vae_config)\n",
    "model = TopologicalModelVAE(encoder_model, vae)\n",
    "\n",
    "model.vae.model.eval()\n",
    "\n",
    "\n"
   ]
  },
  {
   "cell_type": "code",
   "execution_count": 5,
   "metadata": {},
   "outputs": [
    {
     "name": "stderr",
     "output_type": "stream",
     "text": [
      "C:\\Users\\ernst\\AppData\\Local\\Temp\\ipykernel_19360\\1055878096.py:9: UserWarning: FigureCanvasAgg is non-interactive, and thus cannot be shown\n",
      "  plt.show()\n"
     ]
    }
   ],
   "source": [
    "# import matplotlib\n",
    "# matplotlib.use('QtAgg')\n",
    "\n",
    "model.vae.model.training\n",
    "\n",
    "ect = model.vae.model.sample(10,\"cuda:0\")\n",
    "\n",
    "plt.imshow(ect[9].detach().cpu().squeeze())\n",
    "plt.show()"
   ]
  },
  {
   "cell_type": "code",
   "execution_count": 6,
   "metadata": {},
   "outputs": [
    {
     "name": "stdout",
     "output_type": "stream",
     "text": [
      "=====GEN======\n",
      "Total number of data:2832\n",
      "Min number of points: (train)2048 (test)2048\n",
      "Total number of data:405\n",
      "Min number of points: (train)2048 (test)2048\n"
     ]
    }
   ],
   "source": [
    "print(\"=====GEN======\")\n",
    "loader = get_test_loader(args)\n",
    "all_sample = []\n",
    "all_ref = []\n",
    "for data in loader:\n",
    "    idx_b, te_pc = data[\"idx\"], data[\"test_points\"]\n",
    "    te_pc = te_pc.cuda() if args.gpu is None else te_pc.cuda(args.gpu)\n",
    "    B, N = te_pc.size(0), te_pc.size(1)\n",
    "    _, out_pc = model.sample(B, N)\n",
    "\n",
    "    # # denormalize\n",
    "    # m, s = data[\"mean\"].float(), data[\"std\"].float()\n",
    "    # m = m.cuda() if args.gpu is None else m.cuda(args.gpu)\n",
    "    # s = s.cuda() if args.gpu is None else s.cuda(args.gpu)\n",
    "    # out_pc = out_pc * s + m\n",
    "    # te_pc = te_pc * s + m\n",
    "\n",
    "\n",
    "    ########################\n",
    "    ## Insert\n",
    "    ########################\n",
    "\n",
    "    # For comparison, we scale the output for test point cloud to have\n",
    "    # unit radius. The radius of the recon pc is scaled with the same\n",
    "    # value to make sure relative distances are preserved.\n",
    "    # @ErnstRoell\n",
    "    te_pc_means = te_pc.mean(axis=-2, keepdim=True)\n",
    "    te_pc = te_pc - te_pc_means\n",
    "    te_pc_norms = torch.norm(te_pc, dim=-1,keepdim=True).max(dim=-2,keepdim=True)[0]\n",
    "    te_pc = te_pc / te_pc_norms\n",
    "\n",
    "\n",
    "    ########################\n",
    "    ## End insert\n",
    "    ########################\n",
    "\n",
    "\n",
    "    all_sample.append(out_pc)\n",
    "    all_ref.append(te_pc)\n",
    "\n",
    "sample_pcs = torch.cat(all_sample, dim=0)\n",
    "ref_pcs = torch.cat(all_ref, dim=0)\n",
    "\n"
   ]
  },
  {
   "cell_type": "markdown",
   "metadata": {},
   "source": [
    "# Reference PointClouds"
   ]
  },
  {
   "cell_type": "code",
   "execution_count": 7,
   "metadata": {},
   "outputs": [
    {
     "data": {
      "application/vnd.jupyter.widget-view+json": {
       "model_id": "19df9aad3fab4f3e95c444f22a2f2871",
       "version_major": 2,
       "version_minor": 0
      },
      "text/plain": [
       "Widget(value='<iframe src=\"http://localhost:64626/index.html?ui=P_0x24ee204be20_0&reconnect=auto\" class=\"pyvis…"
      ]
     },
     "metadata": {},
     "output_type": "display_data"
    }
   ],
   "source": [
    "pl = pv.Plotter(shape=(8,8), window_size=[1600, 1600],border=False,polygon_smoothing=True)\n",
    "\n",
    "for row in range(8):\n",
    "    for col in range(8):\n",
    "        points = ref_pcs[row*col + col].reshape(-1, 3).detach().cpu().numpy()\n",
    "        pl.subplot(row, col)\n",
    "        actor = pl.add_points(\n",
    "            points,\n",
    "            style=\"points\",\n",
    "            emissive=False,\n",
    "            show_scalar_bar=False,\n",
    "            render_points_as_spheres=True,\n",
    "            scalars=points[:, 2],\n",
    "            point_size=5,\n",
    "            ambient=0.2, \n",
    "            diffuse=0.8, \n",
    "            specular=0.8,\n",
    "            specular_power=40, \n",
    "            smooth_shading=True\n",
    "        )\n",
    "\n",
    "\n",
    "pl.background_color = \"w\"\n",
    "pl.link_views()\n",
    "pl.camera_position = \"yz\"\n",
    "pos = pl.camera.position\n",
    "pl.camera.position = (pos[0],pos[1],pos[2]+3)\n",
    "pl.camera.azimuth = -45\n",
    "pl.camera.elevation = 10\n",
    "# create a top down light\n",
    "light = pv.Light(position=(0, 0, 3), positional=True,\n",
    "                cone_angle=50, exponent=20, intensity=.2)\n",
    "pl.add_light(light)\n",
    "pl.camera.zoom(1.3)\n",
    "pl.show()"
   ]
  },
  {
   "cell_type": "markdown",
   "metadata": {},
   "source": [
    "# Reconstructed Point Clouds"
   ]
  },
  {
   "cell_type": "code",
   "execution_count": 8,
   "metadata": {},
   "outputs": [
    {
     "data": {
      "application/vnd.jupyter.widget-view+json": {
       "model_id": "d8ca4f4064fc4bdcb6b4c003f4542d9e",
       "version_major": 2,
       "version_minor": 0
      },
      "text/plain": [
       "Widget(value='<iframe src=\"http://localhost:64626/index.html?ui=P_0x24f89616b90_1&reconnect=auto\" class=\"pyvis…"
      ]
     },
     "metadata": {},
     "output_type": "display_data"
    }
   ],
   "source": [
    "pl = pv.Plotter(shape=(8,8), window_size=[1600, 1600],border=False,polygon_smoothing=True)\n",
    "\n",
    "for row in range(8):\n",
    "    for col in range(8):\n",
    "        points = sample_pcs[row*col + col].reshape(-1, 3).detach().cpu().numpy()\n",
    "        pl.subplot(row, col)\n",
    "        actor = pl.add_points(\n",
    "            points,\n",
    "            style=\"points\",\n",
    "            emissive=False,\n",
    "            show_scalar_bar=False,\n",
    "            render_points_as_spheres=True,\n",
    "            scalars=points[:, 2],\n",
    "            point_size=5,\n",
    "            ambient=0.2, \n",
    "            diffuse=0.8, \n",
    "            specular=0.8,\n",
    "            specular_power=40, \n",
    "            smooth_shading=True\n",
    "        )\n",
    "\n",
    "\n",
    "pl.background_color = \"w\"\n",
    "pl.link_views()\n",
    "pl.camera_position = \"yz\"\n",
    "pos = pl.camera.position\n",
    "pl.camera.position = (pos[0],pos[1],pos[2]+3)\n",
    "pl.camera.azimuth = -45\n",
    "pl.camera.elevation = 10\n",
    "# create a top down light\n",
    "light = pv.Light(position=(0, 0, 3), positional=True,\n",
    "                cone_angle=50, exponent=20, intensity=.2)\n",
    "pl.add_light(light)\n",
    "pl.camera.zoom(1.3)\n",
    "pl.show()"
   ]
  },
  {
   "cell_type": "code",
   "execution_count": 9,
   "metadata": {},
   "outputs": [
    {
     "name": "stdout",
     "output_type": "stream",
     "text": [
      "torch.Size([405, 2048])\n",
      "torch.Size([405, 2048])\n",
      "tensor([1.0000, 1.0000, 1.0000, 1.0000, 1.0000, 1.0000, 1.0000, 1.0000, 1.0000,\n",
      "        1.0000, 1.0000, 1.0000, 1.0000, 1.0000, 1.0000, 1.0000, 1.0000, 1.0000,\n",
      "        1.0000, 1.0000, 1.0000, 1.0000, 1.0000, 1.0000, 1.0000, 1.0000, 1.0000,\n",
      "        1.0000, 1.0000, 1.0000, 1.0000, 1.0000, 1.0000, 1.0000, 1.0000, 1.0000,\n",
      "        1.0000, 1.0000, 1.0000, 1.0000, 1.0000, 1.0000, 1.0000, 1.0000, 1.0000,\n",
      "        1.0000, 1.0000, 1.0000, 1.0000, 1.0000, 1.0000, 1.0000, 1.0000, 1.0000,\n",
      "        1.0000, 1.0000, 1.0000, 1.0000, 1.0000, 1.0000, 1.0000, 1.0000, 1.0000,\n",
      "        1.0000, 1.0000, 1.0000, 1.0000, 1.0000, 1.0000, 1.0000, 1.0000, 1.0000,\n",
      "        1.0000, 1.0000, 1.0000, 1.0000, 1.0000, 1.0000, 1.0000, 1.0000, 1.0000,\n",
      "        1.0000, 1.0000, 1.0000, 1.0000, 1.0000, 1.0000, 1.0000, 1.0000, 1.0000,\n",
      "        1.0000, 1.0000, 1.0000, 1.0000, 1.0000, 1.0000, 1.0000, 1.0000, 1.0000,\n",
      "        1.0000, 1.0000, 1.0000, 1.0000, 1.0000, 1.0000, 1.0000, 1.0000, 1.0000,\n",
      "        1.0000, 1.0000, 1.0000, 1.0000, 1.0000, 1.0000, 1.0000, 1.0000, 1.0000,\n",
      "        1.0000, 1.0000, 1.0000, 1.0000, 1.0000, 1.0000, 1.0000, 1.0000, 1.0000,\n",
      "        1.0000, 1.0000, 1.0000, 1.0000, 1.0000, 1.0000, 1.0000, 1.0000, 1.0000,\n",
      "        1.0000, 1.0000, 1.0000, 1.0000, 1.0000, 1.0000, 1.0000, 1.0000, 1.0000,\n",
      "        1.0000, 1.0000, 1.0000, 1.0000, 1.0000, 1.0000, 1.0000, 1.0000, 1.0000,\n",
      "        1.0000, 1.0000, 1.0000, 1.0000, 1.0000, 1.0000, 1.0000, 1.0000, 1.0000,\n",
      "        1.0000, 1.0000, 1.0000, 1.0000, 1.0000, 1.0000, 1.0000, 1.0000, 1.0000,\n",
      "        1.0000, 1.0000, 1.0000, 1.0000, 1.0000, 1.0000, 1.0000, 1.0000, 1.0000,\n",
      "        1.0000, 1.0000, 1.0000, 1.0000, 1.0000, 1.0000, 1.0000, 1.0000, 1.0000,\n",
      "        1.0000, 1.0000, 1.0000, 1.0000, 1.0000, 1.0000, 1.0000, 1.0000, 1.0000,\n",
      "        1.0000, 1.0000, 1.0000, 1.0000, 1.0000, 1.0000, 1.0000, 1.0000, 1.0000,\n",
      "        1.0000, 1.0000, 1.0000, 1.0000, 1.0000, 1.0000, 1.0000, 1.0000, 1.0000,\n",
      "        1.0000, 1.0000, 1.0000, 1.0000, 1.0000, 1.0000, 1.0000, 1.0000, 1.0000,\n",
      "        1.0000, 1.0000, 1.0000, 1.0000, 1.0000, 1.0000, 1.0000, 1.0000, 1.0000,\n",
      "        1.0000, 1.0000, 1.0000, 1.0000, 1.0000, 1.0000, 1.0000, 1.0000, 1.0000,\n",
      "        1.0000, 1.0000, 1.0000, 1.0000, 1.0000, 1.0000, 1.0000, 1.0000, 1.0000,\n",
      "        1.0000, 1.0000, 1.0000, 1.0000, 1.0000, 1.0000, 1.0000, 1.0000, 1.0000,\n",
      "        1.0000, 1.0000, 1.0000, 1.0000, 1.0000, 1.0000, 1.0000, 1.0000, 1.0000,\n",
      "        1.0000, 1.0000, 1.0000, 1.0000, 1.0000, 1.0000, 1.0000, 1.0000, 1.0000,\n",
      "        1.0000, 1.0000, 1.0000, 1.0000, 1.0000, 1.0000, 1.0000, 1.0000, 1.0000,\n",
      "        1.0000, 1.0000, 1.0000, 1.0000, 1.0000, 1.0000, 1.0000, 1.0000, 1.0000,\n",
      "        1.0000, 1.0000, 1.0000, 1.0000, 1.0000, 1.0000, 1.0000, 1.0000, 1.0000,\n",
      "        1.0000, 1.0000, 1.0000, 1.0000, 1.0000, 1.0000, 1.0000, 1.0000, 1.0000,\n",
      "        1.0000, 1.0000, 1.0000, 1.0000, 1.0000, 1.0000, 1.0000, 1.0000, 1.0000,\n",
      "        1.0000, 1.0000, 1.0000, 1.0000, 1.0000, 1.0000, 1.0000, 1.0000, 1.0000,\n",
      "        1.0000, 1.0000, 1.0000, 1.0000, 1.0000, 1.0000, 1.0000, 1.0000, 1.0000,\n",
      "        1.0000, 1.0000, 1.0000, 1.0000, 1.0000, 1.0000, 1.0000, 1.0000, 1.0000,\n",
      "        1.0000, 1.0000, 1.0000, 1.0000, 1.0000, 1.0000, 1.0000, 1.0000, 1.0000,\n",
      "        1.0000, 1.0000, 1.0000, 1.0000, 1.0000, 1.0000, 1.0000, 1.0000, 1.0000,\n",
      "        1.0000, 1.0000, 1.0000, 1.0000, 1.0000, 1.0000, 1.0000, 1.0000, 1.0000,\n",
      "        1.0000, 1.0000, 1.0000, 1.0000, 1.0000, 1.0000, 1.0000, 1.0000, 1.0000,\n",
      "        1.0000, 1.0000, 1.0000, 1.0000, 1.0000, 1.0000, 1.0000, 1.0000, 1.0000,\n",
      "        1.0000, 1.0000, 1.0000, 1.0000, 1.0000, 1.0000, 1.0000, 1.0000, 1.0000],\n",
      "       device='cuda:0')\n",
      "tensor([0.9994, 1.0399, 1.0026, 0.9784, 1.0097, 1.0133, 0.9849, 0.9721, 0.9734,\n",
      "        1.0010, 0.9898, 1.0002, 0.9791, 1.0160, 1.0047, 1.0295, 1.0028, 1.0044,\n",
      "        1.0048, 1.0056, 0.9985, 1.0182, 1.0237, 1.0027, 0.9886, 0.9856, 1.0031,\n",
      "        1.0101, 1.0216, 1.0141, 1.0123, 1.0304, 1.0027, 1.0414, 1.0235, 0.9843,\n",
      "        0.9805, 0.9937, 1.0191, 1.0062, 0.9893, 1.0099, 1.0271, 0.9745, 1.0231,\n",
      "        0.9828, 1.0310, 0.9971, 1.0067, 1.0397, 1.0062, 0.9889, 1.0227, 1.0165,\n",
      "        1.0050, 1.0003, 1.0178, 1.0177, 1.0078, 1.0128, 0.9933, 1.0246, 1.0087,\n",
      "        1.0353, 1.0307, 1.0233, 1.0012, 1.0250, 0.9993, 1.0167, 1.0219, 1.0218,\n",
      "        0.9911, 1.0375, 1.0054, 1.0136, 1.0006, 1.0072, 0.9854, 1.0103, 0.9979,\n",
      "        0.9795, 1.0068, 0.9989, 0.9941, 1.0132, 1.0021, 0.9994, 1.0236, 0.9971,\n",
      "        0.9989, 0.9672, 0.9985, 0.9657, 1.0083, 1.0260, 1.0101, 1.0226, 1.0104,\n",
      "        1.0139, 1.0150, 0.9962, 1.0126, 1.0028, 1.0254, 1.0311, 1.0173, 0.9977,\n",
      "        0.9827, 0.9969, 1.0143, 0.9872, 1.0030, 1.0171, 0.9624, 1.0031, 1.0267,\n",
      "        1.0402, 0.9922, 0.9896, 1.0041, 0.9775, 1.0031, 1.0062, 1.0066, 1.0065,\n",
      "        1.0052, 1.0105, 1.0010, 1.0035, 1.0257, 0.9934, 1.0125, 0.9916, 0.9773,\n",
      "        1.0071, 1.0267, 1.0241, 1.0097, 0.9976, 0.9722, 1.0012, 1.0217, 1.0176,\n",
      "        0.9947, 1.0066, 1.0322, 1.0234, 0.9943, 0.9928, 1.0193, 0.9930, 1.0059,\n",
      "        1.0133, 1.0129, 0.9982, 1.0178, 0.9967, 1.0064, 1.0054, 1.0083, 0.9648,\n",
      "        0.9938, 0.9933, 0.9681, 1.0010, 1.0240, 1.0024, 1.0063, 1.0053, 1.0366,\n",
      "        0.9952, 1.0324, 1.0016, 1.0280, 0.9961, 1.0156, 1.0098, 1.0362, 0.9954,\n",
      "        0.9824, 0.9823, 1.0134, 1.0226, 1.0221, 1.0052, 0.9998, 0.9945, 1.0189,\n",
      "        1.0189, 1.0261, 1.0091, 1.0027, 1.0147, 0.9951, 1.0055, 0.9942, 0.9960,\n",
      "        1.0034, 0.9998, 1.0042, 1.0019, 1.0086, 1.0217, 1.0121, 0.9886, 1.0131,\n",
      "        1.0118, 0.9886, 1.0015, 0.9986, 1.0223, 1.0019, 0.9930, 0.9926, 0.9914,\n",
      "        1.0030, 1.0055, 1.0312, 1.0164, 0.9948, 1.0091, 0.9927, 0.8888, 0.9890,\n",
      "        1.0455, 1.0068, 0.9883, 1.0209, 0.9895, 1.0068, 1.0335, 0.9953, 1.0186,\n",
      "        0.9380, 1.0138, 1.0226, 1.0028, 1.0251, 0.9283, 0.9658, 1.0144, 1.0064,\n",
      "        0.9944, 1.0060, 1.0121, 1.0150, 0.9533, 0.9641, 1.0030, 0.9937, 1.0119,\n",
      "        1.0028, 1.0079, 1.0147, 1.0273, 0.9854, 1.0333, 0.9812, 1.0344, 0.9943,\n",
      "        0.9966, 1.0070, 1.0041, 1.0029, 1.0128, 0.9915, 0.9766, 0.9900, 0.9905,\n",
      "        0.9872, 0.9889, 1.0302, 1.0427, 1.0076, 1.0053, 1.0598, 0.9949, 0.9889,\n",
      "        1.0205, 0.9976, 1.0146, 1.0195, 0.9994, 1.0128, 1.0089, 1.0082, 0.9799,\n",
      "        1.0011, 1.0014, 1.0077, 1.0162, 0.9920, 1.0518, 1.0033, 0.9696, 1.0173,\n",
      "        1.0176, 1.0468, 1.0018, 1.0157, 0.9993, 0.9862, 1.0091, 0.9911, 1.0150,\n",
      "        1.0353, 1.0426, 1.0132, 1.0105, 1.0041, 0.9943, 0.9964, 1.0614, 1.0021,\n",
      "        0.9670, 1.0364, 1.0040, 1.0132, 1.0013, 1.0094, 1.0155, 1.0322, 0.9763,\n",
      "        1.0018, 0.9769, 1.0162, 0.9928, 0.9968, 0.9848, 1.0091, 1.0239, 1.0308,\n",
      "        1.0176, 1.0005, 1.0106, 0.9969, 1.0041, 0.9941, 0.9963, 1.0148, 0.9962,\n",
      "        1.0026, 1.0040, 1.0043, 1.0191, 0.9825, 1.0124, 1.0354, 1.0116, 0.9818,\n",
      "        0.9859, 1.0244, 1.0243, 1.0028, 1.0092, 1.0058, 1.0026, 0.9770, 1.0191,\n",
      "        1.0165, 0.9980, 1.0404, 0.9981, 0.9898, 0.9937, 1.0022, 1.0212, 1.0084,\n",
      "        1.0017, 0.9489, 1.0046, 0.9969, 1.0125, 1.0095, 1.0085, 1.0056, 1.0236,\n",
      "        1.0243, 1.0122, 0.9930, 1.0353, 1.0047, 1.0074, 0.9978, 0.9173, 1.0088,\n",
      "        1.0065, 1.0087, 1.0270, 0.9819, 0.9864, 0.9700, 1.0168, 1.0040, 0.9618,\n",
      "        0.9946, 0.9924, 1.0414, 1.0126, 0.9994, 1.0030, 0.9792, 0.9648, 0.9987],\n",
      "       device='cuda:0', grad_fn=<MaxBackward0>)\n"
     ]
    }
   ],
   "source": [
    "samples_norm = sample_pcs.norm(dim=-1)\n",
    "ref_norm = ref_pcs.norm(dim=-1)\n",
    "print(ref_norm.shape)\n",
    "print(samples_norm.shape)\n",
    "\n",
    "\n",
    "print(ref_norm.max(axis=-1)[0])\n",
    "print(samples_norm.max(axis=-1)[0])"
   ]
  },
  {
   "cell_type": "code",
   "execution_count": 18,
   "metadata": {},
   "outputs": [
    {
     "data": {
      "application/vnd.jupyter.widget-view+json": {
       "model_id": "c5bc2b9f0ad7466680aef0eda2445483",
       "version_major": 2,
       "version_minor": 0
      },
      "text/plain": [
       "Widget(value='<iframe src=\"http://localhost:64626/index.html?ui=P_0x24f9ee21300_8&reconnect=auto\" class=\"pyvis…"
      ]
     },
     "metadata": {},
     "output_type": "display_data"
    }
   ],
   "source": [
    "import torch \n",
    "import matplotlib.pyplot as plt \n",
    "from normalization import normalize\n",
    "\n",
    "a = normalize(torch.rand(10,2048,3))\n",
    "\n",
    "\n",
    "pl = pv.Plotter(shape=(8,8), window_size=[1600, 1600],border=False,polygon_smoothing=True)\n",
    "\n",
    "points = a[1].reshape(-1, 3).detach().cpu().numpy()\n",
    "pl.subplot(row, col)\n",
    "actor = pl.add_points(\n",
    "    points,\n",
    "    style=\"points\",\n",
    "    emissive=False,\n",
    "    show_scalar_bar=False,\n",
    "    render_points_as_spheres=True,\n",
    "    scalars=points[:, 2],\n",
    "    point_size=5,\n",
    "    ambient=0.2, \n",
    "    diffuse=0.8, \n",
    "    specular=0.8,\n",
    "    specular_power=40, \n",
    "    smooth_shading=True\n",
    ")\n",
    "\n",
    "\n",
    "pl.background_color = \"w\"\n",
    "pl.link_views()\n",
    "pl.camera_position = \"yz\"\n",
    "pos = pl.camera.position\n",
    "pl.camera.position = (pos[0],pos[1],pos[2]+3)\n",
    "pl.camera.azimuth = -45\n",
    "pl.camera.elevation = 10\n",
    "# create a top down light\n",
    "light = pv.Light(position=(0, 0, 3), positional=True,\n",
    "                cone_angle=50, exponent=20, intensity=.2)\n",
    "pl.add_light(light)\n",
    "pl.camera.zoom(1.3)\n",
    "pl.show()"
   ]
  }
 ],
 "metadata": {
  "kernelspec": {
   "display_name": "Python 3",
   "language": "python",
   "name": "python3"
  },
  "language_info": {
   "codemirror_mode": {
    "name": "ipython",
    "version": 3
   },
   "file_extension": ".py",
   "mimetype": "text/x-python",
   "name": "python",
   "nbconvert_exporter": "python",
   "pygments_lexer": "ipython3",
   "version": "3.10.11"
  }
 },
 "nbformat": 4,
 "nbformat_minor": 2
}
